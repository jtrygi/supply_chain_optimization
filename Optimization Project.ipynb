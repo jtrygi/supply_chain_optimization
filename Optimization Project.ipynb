{
 "cells": [
  {
   "cell_type": "markdown",
   "metadata": {},
   "source": [
    "# John Trygier Optimization Project \n",
    "\n",
    "## Dually Maximizing Truck Fill Rate with Minimized Supply Chain Length\n",
    "\n",
    "### 12/3/2021"
   ]
  },
  {
   "cell_type": "markdown",
   "metadata": {},
   "source": [
    "I understand that this project report is optional  for  extra  credit,  that  the  amount  of  points \n",
    "awarded  by  this  submission  is  solely  determined  by  the  instructor  assessment,  and  that  no \n",
    "requests  for  regrading  or  complaints  about  the  number  of  extra  points  awarded  will  be \n",
    "admitted."
   ]
  },
  {
   "cell_type": "markdown",
   "metadata": {},
   "source": [
    "<html>\n",
    "<head>\n",
    "<style>\n",
    "h1 {text-align: center;}\n",
    "p {text-align: center;}\n",
    "div {text-align: center;}\n",
    "</style>\n",
    "</head>\n",
    "<body>\n",
    "\n",
    "<h1>The Problem</h1>\n",
    "    \n",
    "    \n",
    "    \n",
    "    \n",
    "    \n",
    "    \n",
    "    \n",
    "    \n",
    "    \n",
    "    \n",
    "    \n",
    "    \n",
    "    \n",
    "    \n",
    "<p>Achieving high truck fill rates (TFR) is an integral component of actively and effectively managing any supply chain.</p>\n",
    "\n",
    "<p> \n",
    "    \n",
    "</p>\n",
    "<div>Poor fill rates directly translate into wasted time in terms of needing to make more trips in order to satisfy the same demand. Empty space in a given truck thus causes waste in fuel, labor hours, management, and lost confidence from the customer due to delays. It further undermines our ability to optimize a supply chain, or to exercise control over a given process. </div>\n",
    "\n",
    "</body>\n",
    "</html>"
   ]
  },
  {
   "cell_type": "markdown",
   "metadata": {},
   "source": [
    "Even in a given situation in which we are not losing time by needing to make multiple trips to fulfill demand, we are still exposing a waste of overprocessing inherent to our supply chain. Rather than negotiating with customers and suppliers about lead times and delivery dates, we fulfill demand in suboptimal conditions, representing a suboptimal approach to meeting our customer demand and internal efficiency metrics."
   ]
  },
  {
   "cell_type": "markdown",
   "metadata": {},
   "source": [
    "Poor TFR's comes from many places, I personally saw them at Toyota during my internships when trying to maximize fill rates across the dock. The difficulty comes from how we manage the dual problem of \n",
    "\n",
    "1) minimizing the discrepancy between the size of the truck vs. the amount of necessary product to be shipped (which may not be symmetrically distributed), and\n",
    "\n",
    "2) maximizing the utility of a given truck to a supply chain.\n",
    "\n",
    "\n",
    "What I mean when I reference this \"discrepancy\" is that it will not always be possible to construct truckloads of material that can be arranged to fill the truck to optimality. We may not have sufficient demand necessary to load the truck to optimality, we may be filling orders for parts that are sized in an incongruous manner that will make it impossible to fill the truck when mixing a variety of items in one truck (as is often necessary). When attempting to maximize a truck's utility, I am referring to the benefit that the truck provides to the customer, the demand that it meets, as well as the benefit of cost saving metrics yielded by a minimized route. \n",
    "\n",
    "Once a truck has been filled and shipped, it will then need to be routed in order to serve the customer in the best way that we can find, which changes the remaining demand to be met, which changes the optimal solution, and so on. As our system of variables interact with one another, we must find a way to consider how to maximize our TFR, while routing the prepared truck my minimal route length."
   ]
  },
  {
   "cell_type": "markdown",
   "metadata": {},
   "source": [
    "## A Review of the Literature\n",
    "\n",
    "\n"
   ]
  },
  {
   "cell_type": "markdown",
   "metadata": {},
   "source": [
    "In their paper studying the use of Network Optimization, Prakash, Chan, Liao, and Deshmukh propose that \"most supply chain design problems can be reduced to a capacitated facility location problem (CFLP), which is known to be NP-Complete; therefore most supply chain problems are NP-hard\" (Prakash et.al. 1), which indicates that the problem is exponentially difficult when reflecting optimality for the ground-truth scenario. They recommend the utilization of various relaxations of the base-case model to ensure computational complexity is reduced, including a Lagrangian relaxation of the problem, but they also present the idea of \"multi-objective optimization\" (Prakash et.al. 2) of Supply Chain Networks, focusing not only on total cost but also customer service, and capacity utilization. This is particularly prescient given the number of high-profile supply chain issues that were endured throughout the low-points of the COVID-19 pandemic, which continue to plague supply chains. The authors present the utilization of a Branch-and-Bound technique to solve this problem to optimality.\n",
    "\n",
    "In their paper studying inventory cost and fill rates, KyoungJong Park and Gyouhyung Kyung propose that particle swarm optimization is a suitable method to optimize a supply chain for these metrics, this method automatically adjusts initial inventory levels of all tiers by considering  information quality level, determined by the degree of available historic lead time data. Under this framework, tiers retain the order history of the downstream. The simulated data that they utilized offered up a major decrease in overall supply chain cost, saying that \"without the optimization process... the mean of total inventory costs is \\\\$10.01MM, [while] ... with the optimzation process... the mean of total inventory costs is $4.26MM\" (Park & Kyung 7).\n",
    "\n",
    "In his book *Inventory Management in Multi-Echelon Networks*, Christopher Grob formulates his understanding of multi-echelon supply chain networks by focusing on minimization of reorder points, rather than overall costs, as we \"implicitly minimize the weighted sum of the inventory positions due to the uniformity property... the weighted sum can thus be seen as the total value of stock in the distribution network\" (Grob 32). He solves this problem by using over and underestimating iterative linear programs, approximating the non-linear constraints with piecewise linear functions that refine until a targeted optimality gap is reached."
   ]
  },
  {
   "cell_type": "markdown",
   "metadata": {},
   "source": [
    "## A Clear Problem Description"
   ]
  },
  {
   "cell_type": "markdown",
   "metadata": {},
   "source": [
    "I am solving a 2 stage optimization problem - maximizing truck fill while meeting all demand, then minimizing the route length of those individual trucks, I will use a Mixed-Integer-Programming approach to solve for the truck fill rate, then optimizing the traveling salesman problem with a linear programming solver. "
   ]
  },
  {
   "cell_type": "markdown",
   "metadata": {},
   "source": [
    "## The Model"
   ]
  },
  {
   "cell_type": "code",
   "execution_count": 1,
   "metadata": {},
   "outputs": [],
   "source": [
    "import numpy.random as npr\n",
    "import random as rd\n",
    "from ortools.linear_solver import pywraplp as glp\n",
    "import lptools as lpt\n",
    "import itertools"
   ]
  },
  {
   "cell_type": "markdown",
   "metadata": {},
   "source": [
    "# Create a Maximization model for truck fill rate"
   ]
  },
  {
   "cell_type": "code",
   "execution_count": 70,
   "metadata": {},
   "outputs": [],
   "source": [
    "#Create LP model object\n",
    "mymodel = glp.Solver('Maximize Truck Fill', glp.Solver.CBC_MIXED_INTEGER_PROGRAMMING)"
   ]
  },
  {
   "cell_type": "markdown",
   "metadata": {},
   "source": [
    "Here we create a model object in GLOP, a part of Google's OR-Tools Optimization library, we'll be using Mixed Integer Programming to calculate the number of pallets that can be fit into a truck to fill it to capacity."
   ]
  },
  {
   "cell_type": "code",
   "execution_count": 71,
   "metadata": {},
   "outputs": [],
   "source": [
    "inf = mymodel.infinity()\n",
    "\n",
    "            # name: (type 'c'=continuous or 'i'=integer, lower bound, upper bound, objective coefficient)\n",
    "variables = {'P1':    ('i', 0, 1, 12), # each time we load a pallet of product 1 we get 12 units onto a truck\n",
    "             'P2':    ('i', 0, 1, 9),\n",
    "             'P3':    ('i', 0, 1, 17),\n",
    "             'P4':    ('i', 0, 1, 32),\n",
    "             'P5':    ('i', 0, 1, 30)} # the number of trucks doesn't directly impact the amount of inventory\n",
    "\n",
    "            # name: (lower bound, upper bound, coefficient list)\n",
    "constraints = {'capacity': (-inf, 100, [12, 9, 17, 32,30])} # we have 100 units of capacity per truck, co\n",
    "               \n",
    "\n",
    "mymodel.Objective().SetMaximization()"
   ]
  },
  {
   "cell_type": "markdown",
   "metadata": {},
   "source": [
    "I created 4 variables corresponding to 4 products, defined as integers representing a pallet of those 4 products, each of which contributes a certain \"size\" (amount of product) to the overall objective function. Below this I defined a constraint on the capacity of a truck."
   ]
  },
  {
   "cell_type": "code",
   "execution_count": 72,
   "metadata": {},
   "outputs": [],
   "source": [
    "for v in variables:\n",
    "    (t,lb,ub,c) = variables[v]\n",
    "    if t == 'c':\n",
    "        var = mymodel.NumVar(lb,ub,v)\n",
    "    elif t == 'i':\n",
    "        var = mymodel.IntVar(lb,ub,v)\n",
    "    else:\n",
    "        print('Invalid variable type =', t)\n",
    "    mymodel.Objective().SetCoefficient(var,c)"
   ]
  },
  {
   "cell_type": "code",
   "execution_count": 73,
   "metadata": {},
   "outputs": [],
   "source": [
    "for c in constraints:\n",
    "    (lb,ub,coeff_lst) = constraints[c]\n",
    "    constr = mymodel.Constraint(lb,ub,c)\n",
    "    for (v,coeff) in zip(mymodel.variables(),coeff_lst):\n",
    "        constr.SetCoefficient(v,coeff)"
   ]
  },
  {
   "cell_type": "code",
   "execution_count": 74,
   "metadata": {},
   "outputs": [
    {
     "name": "stdout",
     "output_type": "stream",
     "text": [
      "Variables:\n",
      "P1, P2, P3, P4, P5 \n",
      "\n",
      "maximize: 12.0*P1 + 9.0*P2 + 17.0*P3 + 32.0*P4 + 30.0*P5 \n",
      "\n",
      "Subject To:\n",
      "capacity: 12.0*P1 + 9.0*P2 + 17.0*P3 + 32.0*P4 + 30.0*P5 <= 100.0\n",
      "\n",
      "Bounds:\n",
      "0.0 <= P1 <= 1.0\n",
      "0.0 <= P2 <= 1.0\n",
      "0.0 <= P3 <= 1.0\n",
      "0.0 <= P4 <= 1.0\n",
      "0.0 <= P5 <= 1.0\n"
     ]
    }
   ],
   "source": [
    "lpt.print_model(mymodel)"
   ]
  },
  {
   "cell_type": "markdown",
   "metadata": {},
   "source": [
    "You can see the mathematical formulation yielded by this model, maximizing the sum product of the products and their pallet sizes inside of the truck, with each producted being bounded between 0 and 1."
   ]
  },
  {
   "cell_type": "code",
   "execution_count": 75,
   "metadata": {},
   "outputs": [
    {
     "name": "stdout",
     "output_type": "stream",
     "text": [
      "Solution Status = 0\n",
      "Optimal Value = 100.00\n",
      "P1 = 1.00\n",
      "P2 = 1.00\n",
      "P3 = 1.00\n",
      "P4 = 1.00\n",
      "P5 = 1.00\n"
     ]
    }
   ],
   "source": [
    "#solve model and display results\n",
    "status = mymodel.Solve()\n",
    "print('Solution Status =',status)\n",
    "print('Optimal Value = %.2f' % mymodel.Objective().Value())\n",
    "for v in mymodel.variables():\n",
    "    print('%s = %.2f' % (v.name(),v.solution_value()))"
   ]
  },
  {
   "cell_type": "markdown",
   "metadata": {},
   "source": [
    "The results yielded below indicate that an optimally filled truck will contain 1 of each of our products. In this case, each product is only allowed 1 pallet, which could be relaxed to offer greater flexibility to the model."
   ]
  },
  {
   "cell_type": "markdown",
   "metadata": {},
   "source": [
    "# Create some random demands for each of our facilities"
   ]
  },
  {
   "cell_type": "code",
   "execution_count": 76,
   "metadata": {},
   "outputs": [],
   "source": [
    "# create a variable number of facilities assigned a character name\n",
    "facilities = 15\n",
    "facility_lst = list(map(chr, range(97, 97+facilities)))"
   ]
  },
  {
   "cell_type": "code",
   "execution_count": 84,
   "metadata": {},
   "outputs": [
    {
     "name": "stdout",
     "output_type": "stream",
     "text": [
      "[42.65790116471774, 47.84931368388318, 34.41799775284363, 4.659653230768939, 13.570015135457815, 28.377694760418148, 48.1359740729676, 24.087918285024777, 7.657880572775571, 36.34451974331098, -10.808350246551313, 22.917878430897773, 56.57184913354922, 26.284791710640228, 53.9503596597286, 35.242772015392305, 24.055505803859383, 43.80875020780759, 4.810289397454973, 33.882622847459764, 7.920576434393823, -1.9972429440125161, 32.643751614714425, 37.801542988508764, 24.156908859528293, 12.158571483996358, 30.566148989848802, 11.913971872976106, -26.0315243187027, 29.815948993779113, 25.154600662796973, 26.553259105318567, 23.339071057793376, 55.64499358733816, 14.430818953848627, 57.47045079912578, 29.69882206869854, 3.825001743720936, 5.222706531647795, 50.45064581551518, 2.0229099813005824, 100.21000663809816, 18.690794818565685, 39.62119360649421, 59.68406808299187, 17.89890671414173, 60.273964717539215, 19.720083314680267, 15.600127640984752, 62.623801253758394, 42.53404201922572, 17.279539748494397, 34.667122580324666, 37.40390633759248, 44.092829671274984, 3.185100292734198, -4.1498218233583515, 38.46902527431682, 66.46406514262048, 3.8269816341852945, 11.153394459565988, 46.49478855633899, -3.9356448272324442, 46.92377218767335, 31.664381779295482, 17.781982356059785, -8.77287622430348, 24.083546175162876, 1.5912639622037759, 61.90162982167213, 30.890837125440218, 61.57926234680688, 59.528572605190035, 32.20612367309459, 5.459245426320788, 26.234830246381733, 37.87619080103181, 49.05947524246247, 14.894581801604243, -19.561939568461575, 36.55407995616608, 41.90212154549416, 43.545507557216155, -14.135572353804093, 20.13138941858339, 36.141145259825336, 17.47617037435368, 32.17709368620627, 36.95244265074525, 33.936808412649896, 54.178994055860116, -11.036255643874682, -2.186591752829912, 28.574061338892903, 23.014803366087172, 21.262986168057886, 17.802267329802405, 33.67327324886205, 59.50683960901254, 24.854586002730482, -4.918839098105671]\n"
     ]
    }
   ],
   "source": [
    "trials = list(range(0,101))\n",
    "dmd_lst = list()\n",
    "for i in trials:\n",
    "    dmd = rd.normalvariate(30,20)\n",
    "    dmd_lst.append(dmd)\n",
    "print(dmd_lst)"
   ]
  },
  {
   "cell_type": "code",
   "execution_count": 90,
   "metadata": {},
   "outputs": [
    {
     "name": "stdout",
     "output_type": "stream",
     "text": [
      "facility demand:  {'P1': 37, 'P2': 3, 'P3': 45, 'P4': 13, 'P5': 29}\n",
      "facility demand:  {'P1': 37, 'P2': 3, 'P3': 45, 'P4': 13, 'P5': 29}\n",
      "facility demand:  {'P1': 37, 'P2': 3, 'P3': 45, 'P4': 13, 'P5': 29}\n",
      "facility demand:  {'P1': 37, 'P2': 3, 'P3': 45, 'P4': 13, 'P5': 29}\n",
      "facility demand:  {'P1': 37, 'P2': 3, 'P3': 45, 'P4': 13, 'P5': 29}\n",
      "facility demand:  {'P1': 37, 'P2': 3, 'P3': 45, 'P4': 13, 'P5': 29}\n",
      "facility demand:  {'P1': 37, 'P2': 3, 'P3': 45, 'P4': 13, 'P5': 29}\n",
      "facility demand:  {'P1': 37, 'P2': 3, 'P3': 45, 'P4': 13, 'P5': 29}\n",
      "facility demand:  {'P1': 37, 'P2': 3, 'P3': 45, 'P4': 13, 'P5': 29}\n",
      "facility demand:  {'P1': 37, 'P2': 3, 'P3': 45, 'P4': 13, 'P5': 29}\n",
      "facility demand:  {'P1': 37, 'P2': 3, 'P3': 45, 'P4': 13, 'P5': 29}\n",
      "facility demand:  {'P1': 37, 'P2': 3, 'P3': 45, 'P4': 13, 'P5': 29}\n",
      "facility demand:  {'P1': 37, 'P2': 3, 'P3': 45, 'P4': 13, 'P5': 29}\n",
      "facility demand:  {'P1': 37, 'P2': 3, 'P3': 45, 'P4': 13, 'P5': 29}\n",
      "facility demand:  {'P1': 37, 'P2': 3, 'P3': 45, 'P4': 13, 'P5': 29}\n"
     ]
    }
   ],
   "source": [
    "p1_mean_dmd = 32\n",
    "p2_mean_dmd = 12\n",
    "p3_mean_dmd = 42\n",
    "p4_mean_dmd = 13\n",
    "p1_sd = 3\n",
    "p2_sd = 5\n",
    "p3_sd = 15\n",
    "p4_sd = 1\n",
    "p5_mean_dmd = 32\n",
    "p5_sd = 4\n",
    "demand_lst = list()\n",
    "for f in facility_lst:\n",
    "    product_lst = list()\n",
    "    pl_demand = round(rd.normalvariate(p1_mean_dmd,p1_sd))\n",
    "    p2_demand = round(rd.normalvariate(p2_mean_dmd,p2_sd))\n",
    "    p3_demand = round(rd.normalvariate(p3_mean_dmd,p3_sd))\n",
    "    p4_demand = round(rd.normalvariate(p4_mean_dmd,p4_sd))\n",
    "    p5_demand = round(rd.normalvariate(p5_mean_dmd,p5_sd))\n",
    "    demand_lst.append(pl_demand)\n",
    "    demand_lst.append(p2_demand)\n",
    "    demand_lst.append(p3_demand)\n",
    "    demand_lst.append(p4_demand)\n",
    "    demand_lst.append(p5_demand)\n",
    "    for v in variables: \n",
    "        product_lst.append(v)\n",
    "        demand = dict(zip(product_lst, demand_lst))\n",
    "    print('facility demand: ', demand)"
   ]
  },
  {
   "cell_type": "markdown",
   "metadata": {},
   "source": [
    "Above I created demands with normally distributed random variables for each of the facilities in the network, by product, and created a dictionary of all these demands to be accessed later."
   ]
  },
  {
   "cell_type": "markdown",
   "metadata": {},
   "source": [
    "## Creating unique path's that don't traverse the same node twice"
   ]
  },
  {
   "cell_type": "code",
   "execution_count": 91,
   "metadata": {},
   "outputs": [
    {
     "name": "stdout",
     "output_type": "stream",
     "text": [
      "['a', 'b', 'c', 'd', 'e', 'f', 'g', 'h', 'i', 'j', 'k', 'l', 'm', 'n', 'o']\n"
     ]
    }
   ],
   "source": [
    "#print the list of facilities to verify list\n",
    "print(facility_lst)"
   ]
  },
  {
   "cell_type": "code",
   "execution_count": 92,
   "metadata": {},
   "outputs": [],
   "source": [
    "# create a list of all paths between these facilities\n",
    "all_paths = list(itertools.product(facility_lst, facility_lst))"
   ]
  },
  {
   "cell_type": "code",
   "execution_count": 93,
   "metadata": {},
   "outputs": [],
   "source": [
    "# remove duplcated paths e.g. (0,1) & (1,0)\n",
    "res = list({*map(tuple, map(sorted,all_paths))})"
   ]
  },
  {
   "cell_type": "code",
   "execution_count": 94,
   "metadata": {},
   "outputs": [],
   "source": [
    "# define element positions within the tuples\n",
    "first_tuple_elements = [r[0] for r in res]\n",
    "second_tuple_elements =[r[1] for r in res]"
   ]
  },
  {
   "cell_type": "code",
   "execution_count": 95,
   "metadata": {},
   "outputs": [],
   "source": [
    "# create a list of path options that doesn't include staying on the same node\n",
    "path_options = list()\n",
    "for i in range(0,len(first_tuple_elements)):\n",
    "    if first_tuple_elements[i] != second_tuple_elements[i]:\n",
    "        path_options.append(res[i])"
   ]
  },
  {
   "cell_type": "code",
   "execution_count": 96,
   "metadata": {
    "scrolled": true
   },
   "outputs": [
    {
     "name": "stdout",
     "output_type": "stream",
     "text": [
      "[('h', 'k'), ('e', 'g'), ('g', 'i'), ('k', 'm'), ('d', 'f'), ('a', 'b'), ('d', 'n'), ('i', 'o'), ('g', 'o'), ('b', 'j'), ('f', 'g'), ('a', 'n'), ('k', 'o'), ('j', 'n'), ('c', 'n'), ('m', 'n'), ('e', 'f'), ('h', 'l'), ('i', 'k'), ('g', 'k'), ('e', 'n'), ('d', 'j'), ('a', 'g'), ('c', 'g'), ('l', 'm'), ('f', 'n'), ('b', 'e'), ('e', 'j'), ('i', 'l'), ('b', 'k'), ('g', 'l'), ('h', 'n'), ('l', 'o'), ('e', 'm'), ('b', 'h'), ('a', 'f'), ('k', 'l'), ('c', 'f'), ('b', 'm'), ('f', 'j'), ('d', 'e'), ('b', 'i'), ('d', 'k'), ('f', 'm'), ('d', 'h'), ('d', 'm'), ('b', 'o'), ('i', 'n'), ('g', 'n'), ('a', 'j'), ('a', 'h'), ('d', 'i'), ('e', 'k'), ('c', 'j'), ('c', 'h'), ('k', 'n'), ('a', 'm'), ('e', 'h'), ('j', 'm'), ('c', 'm'), ('d', 'o'), ('b', 'c'), ('f', 'k'), ('e', 'i'), ('f', 'h'), ('a', 'o'), ('j', 'o'), ('c', 'o'), ('e', 'l'), ('m', 'o'), ('e', 'o'), ('a', 'e'), ('f', 'i'), ('b', 'd'), ('b', 'l'), ('h', 'j'), ('a', 'k'), ('c', 'e'), ('j', 'k'), ('b', 'g'), ('c', 'k'), ('l', 'n'), ('h', 'm'), ('f', 'l'), ('a', 'c'), ('f', 'o'), ('h', 'i'), ('d', 'l'), ('a', 'i'), ('d', 'g'), ('c', 'i'), ('n', 'o'), ('h', 'o'), ('a', 'd'), ('a', 'l'), ('i', 'j'), ('g', 'j'), ('b', 'f'), ('g', 'h'), ('j', 'l'), ('b', 'n'), ('c', 'd'), ('c', 'l'), ('i', 'm'), ('g', 'm')]\n"
     ]
    }
   ],
   "source": [
    "# print all remaining path options - should be completed\n",
    "print(path_options)"
   ]
  },
  {
   "cell_type": "markdown",
   "metadata": {},
   "source": [
    "# Create Random Distances "
   ]
  },
  {
   "cell_type": "code",
   "execution_count": 97,
   "metadata": {},
   "outputs": [],
   "source": [
    "# create all the distances for the various paths - normally distributed random variables\n",
    "distance_mean = 20\n",
    "distance_std = 5\n",
    "distance_lst = list()\n",
    "for p in path_options: \n",
    "    distance = round(rd.normalvariate(distance_mean, distance_std),2)\n",
    "    distance_final = round(distance + rd.normalvariate(200,50),2)\n",
    "    distance_lst.append(distance_final)"
   ]
  },
  {
   "cell_type": "markdown",
   "metadata": {},
   "source": [
    "## Integrate our distances and stops to get a shortest path problem"
   ]
  },
  {
   "cell_type": "code",
   "execution_count": 98,
   "metadata": {},
   "outputs": [],
   "source": [
    "# update for our model\n",
    "edge = {}\n",
    "\n",
    "def addPath(path, cost):\n",
    "    if path in edge:\n",
    "        print('path already in model')\n",
    "    else:\n",
    "        edge[path] = cost\n",
    "\n",
    "for p in path_options:\n",
    "    addPath(p,None)"
   ]
  },
  {
   "cell_type": "code",
   "execution_count": 99,
   "metadata": {},
   "outputs": [
    {
     "name": "stdout",
     "output_type": "stream",
     "text": [
      "{('h', 'k'): 267.86, ('e', 'g'): 241.61, ('g', 'i'): 175.48, ('k', 'm'): 242.68, ('d', 'f'): 150.69, ('a', 'b'): 254.45, ('d', 'n'): 285.91, ('i', 'o'): 329.22, ('g', 'o'): 232.67, ('b', 'j'): 155.69, ('f', 'g'): 245.26, ('a', 'n'): 246.09, ('k', 'o'): 278.46, ('j', 'n'): 159.53, ('c', 'n'): 178.49, ('m', 'n'): 206.8, ('e', 'f'): 264.21, ('h', 'l'): 214.98, ('i', 'k'): 194.96, ('g', 'k'): 221.91, ('e', 'n'): 249.25, ('d', 'j'): 197.55, ('a', 'g'): 136.46, ('c', 'g'): 206.47, ('l', 'm'): 219.97, ('f', 'n'): 150.21, ('b', 'e'): 141.67, ('e', 'j'): 184.06, ('i', 'l'): 246.88, ('b', 'k'): 249.47, ('g', 'l'): 250.29, ('h', 'n'): 162.09, ('l', 'o'): 216.65, ('e', 'm'): 274.06, ('b', 'h'): 210.36, ('a', 'f'): 224.48, ('k', 'l'): 246.27, ('c', 'f'): 147.09, ('b', 'm'): 224.85, ('f', 'j'): 265.43, ('d', 'e'): 132.37, ('b', 'i'): 215.14, ('d', 'k'): 194.87, ('f', 'm'): 264.07, ('d', 'h'): 273.28, ('d', 'm'): 298.23, ('b', 'o'): 233.49, ('i', 'n'): 228.87, ('g', 'n'): 233.81, ('a', 'j'): 129.26, ('a', 'h'): 228.52, ('d', 'i'): 293.71, ('e', 'k'): 227.32, ('c', 'j'): 220.35, ('c', 'h'): 166.6, ('k', 'n'): 228.91, ('a', 'm'): 195.4, ('e', 'h'): 311.98, ('j', 'm'): 190.37, ('c', 'm'): 277.71, ('d', 'o'): 216.4, ('b', 'c'): 240.15, ('f', 'k'): 297.54, ('e', 'i'): 191.19, ('f', 'h'): 266.32, ('a', 'o'): 264.76, ('j', 'o'): 205.25, ('c', 'o'): 259.77, ('e', 'l'): 235.34, ('m', 'o'): 135.39, ('e', 'o'): 201.59, ('a', 'e'): 215.62, ('f', 'i'): 239.91, ('b', 'd'): 157.42, ('b', 'l'): 178.27, ('h', 'j'): 210.08, ('a', 'k'): 208.74, ('c', 'e'): 186.31, ('j', 'k'): 264.16, ('b', 'g'): 258.14, ('c', 'k'): 304.51, ('l', 'n'): 209.54, ('h', 'm'): 258.74, ('f', 'l'): 152.78, ('a', 'c'): 210.83, ('f', 'o'): 118.64, ('h', 'i'): 307.82, ('d', 'l'): 243.37, ('a', 'i'): 189.54, ('d', 'g'): 214.48, ('c', 'i'): 298.49, ('n', 'o'): 212.75, ('h', 'o'): 180.87, ('a', 'd'): 289.44, ('a', 'l'): 138.03, ('i', 'j'): 262.07, ('g', 'j'): 235.6, ('b', 'f'): 168.07, ('g', 'h'): 186.15, ('j', 'l'): 190.87, ('b', 'n'): 213.3, ('c', 'd'): 198.12, ('c', 'l'): 285.64, ('i', 'm'): 390.11, ('g', 'm'): 252.34}\n"
     ]
    }
   ],
   "source": [
    "edge = dict(zip(edge, distance_lst))\n",
    "\n",
    "print(edge)\n",
    "#Create LP model object\n",
    "mymodel = glp.Solver('ShortestPath',glp.Solver.GLOP_LINEAR_PROGRAMMING)\n",
    "mymodel.Objective().SetMinimization()    # minimize total transportation cost"
   ]
  },
  {
   "cell_type": "markdown",
   "metadata": {},
   "source": [
    "Above I combine the dictionary of the individual nodes with the distance associated with that node, creating a comprehensive dictionary of the possible edges in our optimization space."
   ]
  },
  {
   "cell_type": "code",
   "execution_count": 41,
   "metadata": {},
   "outputs": [],
   "source": [
    "node = {}\n",
    "\n",
    "def addNode(facility, role):\n",
    "    if facility in node:\n",
    "        print('facility already a node')\n",
    "    else:\n",
    "        node[facility] = role\n",
    "\n",
    "for f in facility_lst:\n",
    "    addNode(f,None)\n",
    "    \n",
    "role_lst = [0] * len(facility_lst)"
   ]
  },
  {
   "cell_type": "code",
   "execution_count": 42,
   "metadata": {},
   "outputs": [
    {
     "name": "stdout",
     "output_type": "stream",
     "text": [
      "{'a': -1, 'b': 0, 'c': 0, 'd': 0, 'e': 0, 'f': 0, 'g': 0, 'h': 0, 'i': 0, 'j': 0, 'k': 0, 'l': 0, 'm': 0, 'n': 0, 'o': 1}\n"
     ]
    }
   ],
   "source": [
    "# create a list of nodes and assign them roles, -1 is the start, 1 is the finish, 0's are intermediate\n",
    "\n",
    "role_lst[0] = -1\n",
    "role_lst[len(role_lst)-1] = 1\n",
    "node = dict(zip(node, role_lst))\n",
    "print(node)"
   ]
  },
  {
   "cell_type": "markdown",
   "metadata": {},
   "source": [
    "Here I create a beginning and end point for the shortest path model, with \"a\" being the starting point (facility a), and \"o\" being the end point."
   ]
  },
  {
   "cell_type": "code",
   "execution_count": 43,
   "metadata": {},
   "outputs": [],
   "source": [
    "# create a constraint dictionary containing a constraint for each node\n",
    "constr = dict()\n",
    "for n in node:\n",
    "    b = node[n]\n",
    "    constr[n] = mymodel.Constraint(b,b,str(n))"
   ]
  },
  {
   "cell_type": "code",
   "execution_count": 44,
   "metadata": {},
   "outputs": [
    {
     "name": "stdout",
     "output_type": "stream",
     "text": [
      "Variables:\n",
      "h_k, e_g, g_i, k_m, d_f, a_b, d_n, i_o, g_o, b_j, f_g, a_n, k_o, j_n, c_n, m_n, e_f, h_l, i_k, g_k, e_n, d_j, a_g, c_g, l_m, f_n, b_e, e_j, i_l, b_k, g_l, h_n, l_o, e_m, b_h, a_f, k_l, c_f, b_m, f_j, d_e, b_i, d_k, f_m, d_h, d_m, b_o, i_n, g_n, a_j, a_h, d_i, e_k, c_j, c_h, k_n, a_m, e_h, j_m, c_m, d_o, b_c, f_k, e_i, f_h, a_o, j_o, c_o, e_l, m_o, e_o, a_e, f_i, b_d, b_l, h_j, a_k, c_e, j_k, b_g, c_k, l_n, h_m, f_l, a_c, f_o, h_i, d_l, a_i, d_g, c_i, n_o, h_o, a_d, a_l, i_j, g_j, b_f, g_h, j_l, b_n, c_d, c_l, i_m, g_m \n",
      "\n",
      "minimize: 183.64*h_k + 185.33*e_g + 245.17*g_i + 220.34*k_m + 187.8*d_f + 167.28*a_b + 162.18*d_n + 311.45*i_o + 228.96*g_o + 227.01*b_j + 229.66*f_g + 249.09*a_n + 294.83*k_o + 175.42*j_n + 164.37*c_n + 164.57*m_n + 145.46*e_f + 228.59*h_l + 177.4*i_k + 241.65*g_k + 217.55*e_n + 328.04*d_j + 148.33*a_g + 276.01*c_g + 229.86*l_m + 224.51*f_n + 133.88*b_e + 175.85*e_j + 234.5*i_l + 249.7*b_k + 261.14*g_l + 182.96*h_n + 210.34*l_o + 252.41*e_m + 107.65*b_h + 200.1*a_f + 248.51*k_l + 223.1*c_f + 196.27*b_m + 229.73*f_j + 212.21*d_e + 265.66*b_i + 280.23*d_k + 175.23*f_m + 237.61*d_h + 310.62*d_m + 199.29*b_o + 138.71*i_n + 119.36*g_n + 232.64*a_j + 279.01*a_h + 205.7*d_i + 157.73*e_k + 185.36*c_j + 296.38*c_h + 142.8*k_n + 343.76*a_m + 226.92*e_h + 136.45*j_m + 167.13*c_m + 317.03*d_o + 253.11*b_c + 212.56*f_k + 214.8*e_i + 252.23*f_h + 177.0*a_o + 215.55*j_o + 205.19*c_o + 172.15*e_l + 225.01*m_o + 289.87*e_o + 245.16*a_e + 175.11*f_i + 166.3*b_d + 195.94*b_l + 218.66*h_j + 177.62*a_k + 208.21*c_e + 279.07*j_k + 220.98*b_g + 205.97*c_k + 300.86*l_n + 310.36*h_m + 155.8*f_l + 216.82*a_c + 259.46*f_o + 104.08*h_i + 160.35*d_l + 238.57*a_i + 333.45*d_g + 285.85*c_i + 172.6*n_o + 220.71*h_o + 223.74*a_d + 214.44*a_l + 116.03*i_j + 138.39*g_j + 151.14*b_f + 276.48*g_h + 226.71*j_l + 206.82*b_n + 312.85*c_d + 222.64*c_l + 197.23*i_m + 226.15*g_m \n",
      "\n",
      "Subject To:\n",
      "a: - 1.0*a_b - 1.0*a_n - 1.0*a_g - 1.0*a_f - 1.0*a_j - 1.0*a_h - 1.0*a_m - 1.0*a_o - 1.0*a_e - 1.0*a_k - 1.0*a_c - 1.0*a_i - 1.0*a_d - 1.0*a_l = -1.0\n",
      "b: 1.0*a_b - 1.0*b_j - 1.0*b_e - 1.0*b_k - 1.0*b_h - 1.0*b_m - 1.0*b_i - 1.0*b_o - 1.0*b_c - 1.0*b_d - 1.0*b_l - 1.0*b_g - 1.0*b_f - 1.0*b_n = 0.0\n",
      "c: - 1.0*c_n - 1.0*c_g - 1.0*c_f - 1.0*c_j - 1.0*c_h - 1.0*c_m + 1.0*b_c - 1.0*c_o - 1.0*c_e - 1.0*c_k + 1.0*a_c - 1.0*c_i - 1.0*c_d - 1.0*c_l = 0.0\n",
      "d: - 1.0*d_f - 1.0*d_n - 1.0*d_j - 1.0*d_e - 1.0*d_k - 1.0*d_h - 1.0*d_m - 1.0*d_i - 1.0*d_o + 1.0*b_d - 1.0*d_l - 1.0*d_g + 1.0*a_d + 1.0*c_d = 0.0\n",
      "e: - 1.0*e_g - 1.0*e_f - 1.0*e_n + 1.0*b_e - 1.0*e_j - 1.0*e_m + 1.0*d_e - 1.0*e_k - 1.0*e_h - 1.0*e_i - 1.0*e_l - 1.0*e_o + 1.0*a_e + 1.0*c_e = 0.0\n",
      "f: 1.0*d_f - 1.0*f_g + 1.0*e_f - 1.0*f_n + 1.0*a_f + 1.0*c_f - 1.0*f_j - 1.0*f_m - 1.0*f_k - 1.0*f_h - 1.0*f_i - 1.0*f_l - 1.0*f_o + 1.0*b_f = 0.0\n",
      "g: 1.0*e_g - 1.0*g_i - 1.0*g_o + 1.0*f_g - 1.0*g_k + 1.0*a_g + 1.0*c_g - 1.0*g_l - 1.0*g_n + 1.0*b_g + 1.0*d_g - 1.0*g_j - 1.0*g_h - 1.0*g_m = 0.0\n",
      "h: - 1.0*h_k - 1.0*h_l - 1.0*h_n + 1.0*b_h + 1.0*d_h + 1.0*a_h + 1.0*c_h + 1.0*e_h + 1.0*f_h - 1.0*h_j - 1.0*h_m - 1.0*h_i - 1.0*h_o + 1.0*g_h = 0.0\n",
      "i: 1.0*g_i - 1.0*i_o - 1.0*i_k - 1.0*i_l + 1.0*b_i - 1.0*i_n + 1.0*d_i + 1.0*e_i + 1.0*f_i + 1.0*h_i + 1.0*a_i + 1.0*c_i - 1.0*i_j - 1.0*i_m = 0.0\n",
      "j: 1.0*b_j - 1.0*j_n + 1.0*d_j + 1.0*e_j + 1.0*f_j + 1.0*a_j + 1.0*c_j - 1.0*j_m - 1.0*j_o + 1.0*h_j - 1.0*j_k + 1.0*i_j + 1.0*g_j - 1.0*j_l = 0.0\n",
      "k: 1.0*h_k - 1.0*k_m - 1.0*k_o + 1.0*i_k + 1.0*g_k + 1.0*b_k - 1.0*k_l + 1.0*d_k + 1.0*e_k - 1.0*k_n + 1.0*f_k + 1.0*a_k + 1.0*j_k + 1.0*c_k = 0.0\n",
      "l: 1.0*h_l - 1.0*l_m + 1.0*i_l + 1.0*g_l - 1.0*l_o + 1.0*k_l + 1.0*e_l + 1.0*b_l - 1.0*l_n + 1.0*f_l + 1.0*d_l + 1.0*a_l + 1.0*j_l + 1.0*c_l = 0.0\n",
      "m: 1.0*k_m - 1.0*m_n + 1.0*l_m + 1.0*e_m + 1.0*b_m + 1.0*f_m + 1.0*d_m + 1.0*a_m + 1.0*j_m + 1.0*c_m - 1.0*m_o + 1.0*h_m + 1.0*i_m + 1.0*g_m = 0.0\n",
      "n: 1.0*d_n + 1.0*a_n + 1.0*j_n + 1.0*c_n + 1.0*m_n + 1.0*e_n + 1.0*f_n + 1.0*h_n + 1.0*i_n + 1.0*g_n + 1.0*k_n + 1.0*l_n - 1.0*n_o + 1.0*b_n = 0.0\n",
      "o: 1.0*i_o + 1.0*g_o + 1.0*k_o + 1.0*l_o + 1.0*b_o + 1.0*d_o + 1.0*a_o + 1.0*j_o + 1.0*c_o + 1.0*m_o + 1.0*e_o + 1.0*f_o + 1.0*n_o + 1.0*h_o = 1.0\n",
      "\n",
      "Bounds:\n",
      "h_k >= 0.0\n",
      "e_g >= 0.0\n",
      "g_i >= 0.0\n",
      "k_m >= 0.0\n",
      "d_f >= 0.0\n",
      "a_b >= 0.0\n",
      "d_n >= 0.0\n",
      "i_o >= 0.0\n",
      "g_o >= 0.0\n",
      "b_j >= 0.0\n",
      "f_g >= 0.0\n",
      "a_n >= 0.0\n",
      "k_o >= 0.0\n",
      "j_n >= 0.0\n",
      "c_n >= 0.0\n",
      "m_n >= 0.0\n",
      "e_f >= 0.0\n",
      "h_l >= 0.0\n",
      "i_k >= 0.0\n",
      "g_k >= 0.0\n",
      "e_n >= 0.0\n",
      "d_j >= 0.0\n",
      "a_g >= 0.0\n",
      "c_g >= 0.0\n",
      "l_m >= 0.0\n",
      "f_n >= 0.0\n",
      "b_e >= 0.0\n",
      "e_j >= 0.0\n",
      "i_l >= 0.0\n",
      "b_k >= 0.0\n",
      "g_l >= 0.0\n",
      "h_n >= 0.0\n",
      "l_o >= 0.0\n",
      "e_m >= 0.0\n",
      "b_h >= 0.0\n",
      "a_f >= 0.0\n",
      "k_l >= 0.0\n",
      "c_f >= 0.0\n",
      "b_m >= 0.0\n",
      "f_j >= 0.0\n",
      "d_e >= 0.0\n",
      "b_i >= 0.0\n",
      "d_k >= 0.0\n",
      "f_m >= 0.0\n",
      "d_h >= 0.0\n",
      "d_m >= 0.0\n",
      "b_o >= 0.0\n",
      "i_n >= 0.0\n",
      "g_n >= 0.0\n",
      "a_j >= 0.0\n",
      "a_h >= 0.0\n",
      "d_i >= 0.0\n",
      "e_k >= 0.0\n",
      "c_j >= 0.0\n",
      "c_h >= 0.0\n",
      "k_n >= 0.0\n",
      "a_m >= 0.0\n",
      "e_h >= 0.0\n",
      "j_m >= 0.0\n",
      "c_m >= 0.0\n",
      "d_o >= 0.0\n",
      "b_c >= 0.0\n",
      "f_k >= 0.0\n",
      "e_i >= 0.0\n",
      "f_h >= 0.0\n",
      "a_o >= 0.0\n",
      "j_o >= 0.0\n",
      "c_o >= 0.0\n",
      "e_l >= 0.0\n",
      "m_o >= 0.0\n",
      "e_o >= 0.0\n",
      "a_e >= 0.0\n",
      "f_i >= 0.0\n",
      "b_d >= 0.0\n",
      "b_l >= 0.0\n",
      "h_j >= 0.0\n",
      "a_k >= 0.0\n",
      "c_e >= 0.0\n",
      "j_k >= 0.0\n",
      "b_g >= 0.0\n",
      "c_k >= 0.0\n",
      "l_n >= 0.0\n",
      "h_m >= 0.0\n",
      "f_l >= 0.0\n",
      "a_c >= 0.0\n",
      "f_o >= 0.0\n",
      "h_i >= 0.0\n",
      "d_l >= 0.0\n",
      "a_i >= 0.0\n",
      "d_g >= 0.0\n",
      "c_i >= 0.0\n",
      "n_o >= 0.0\n",
      "h_o >= 0.0\n",
      "a_d >= 0.0\n",
      "a_l >= 0.0\n",
      "i_j >= 0.0\n",
      "g_j >= 0.0\n",
      "b_f >= 0.0\n",
      "g_h >= 0.0\n",
      "j_l >= 0.0\n",
      "b_n >= 0.0\n",
      "c_d >= 0.0\n",
      "c_l >= 0.0\n",
      "i_m >= 0.0\n",
      "g_m >= 0.0\n"
     ]
    }
   ],
   "source": [
    "# create a variable dictionary containing a variable for each edge\n",
    "# add each variable to the objective and its corresponding constraints\n",
    "inf = mymodel.infinity()\n",
    "path = dict()\n",
    "for e in edge:\n",
    "    (o,d) = e\n",
    "    c = edge[e]\n",
    "    path[e] = mymodel.NumVar(0, inf, str(o) + '_' + str(d))\n",
    "    mymodel.Objective().SetCoefficient(path[e],c)\n",
    "    constr[o].SetCoefficient(path[e],-1)\n",
    "    constr[d].SetCoefficient(path[e],1)\n",
    "\n",
    "lpt.print_model(mymodel)"
   ]
  },
  {
   "cell_type": "code",
   "execution_count": 45,
   "metadata": {},
   "outputs": [
    {
     "name": "stdout",
     "output_type": "stream",
     "text": [
      "Solution Status = 0\n",
      "Optimal Value = 177.00\n",
      "a_o = 1.00\n"
     ]
    }
   ],
   "source": [
    "#solve model and display results\n",
    "status = mymodel.Solve()\n",
    "print('Solution Status =',status)\n",
    "print('Optimal Value = %.2f' % mymodel.Objective().Value())\n",
    "for v in mymodel.variables():\n",
    "    if v.solution_value() != 0:\n",
    "        print('%s = %.2f' % (v.name(),v.solution_value()))"
   ]
  },
  {
   "cell_type": "markdown",
   "metadata": {},
   "source": [
    "Above we see the shortest path between the two nodes was a straight line, without any intermediate nodes."
   ]
  },
  {
   "cell_type": "markdown",
   "metadata": {},
   "source": [
    "## Results/Conclusions"
   ]
  },
  {
   "cell_type": "markdown",
   "metadata": {},
   "source": [
    "There are several key failings to this model - firstly being it's disjointness. There is poor transfer of information between the stages of the optimization, a truck fill is found, then a shortest path is found, but that shortest path is not guaranteed with a certificate of optimality to be the optimal path for the optimally filled truck, given our demand. Further, this formulation is not achieving the goal of a travelling salesperson model, but rather a shortest path. Integrating these two key improvements could make this a very exciting model, as integrating an understanding of optimal trucks into our planning for optimal paths would be beneficial to our supply chain costs overall. Quantifying our inventory costs in this situation would also be key. What we can take away from this model, however, is that MILP is an appropriate approach towards developing truck fullness heuristics to inform supply chain decisions, and that we can take the methodical approach outlined in the above simulation to develop a dataset to optimize a network over. "
   ]
  },
  {
   "cell_type": "markdown",
   "metadata": {},
   "source": [
    "# Works Cited"
   ]
  },
  {
   "cell_type": "markdown",
   "metadata": {},
   "source": [
    "Park, KyoungJong, and Gyouhyung Kyung. “Optimization of Total Inventory Cost and Order Fill Rate in a Supply Chain Using PSO.” The International Journal of Advanced Manufacturing Technology, vol. 70, no. 9-12, 2013, pp. 1533–1541., https://doi.org/10.1007/s00170-013-5399-6. \n",
    "\n",
    "Prakash, A., et al. “Network Optimization in Supply Chain: A KBGA Approach.” Decision Support Systems, vol. 52, no. 2, 2012, pp. 528–538., https://doi.org/10.1016/j.dss.2011.10.024. \n",
    "\n",
    "Grob, Christopher. Inventory Management in Multi-Echelon Networks on the Optimization of Reorder Points. Springer Fachmedien Wiesbaden, 2019. "
   ]
  }
 ],
 "metadata": {
  "kernelspec": {
   "display_name": "Python 3 (ipykernel)",
   "language": "python",
   "name": "python3"
  },
  "language_info": {
   "codemirror_mode": {
    "name": "ipython",
    "version": 3
   },
   "file_extension": ".py",
   "mimetype": "text/x-python",
   "name": "python",
   "nbconvert_exporter": "python",
   "pygments_lexer": "ipython3",
   "version": "3.8.5"
  }
 },
 "nbformat": 4,
 "nbformat_minor": 4
}
